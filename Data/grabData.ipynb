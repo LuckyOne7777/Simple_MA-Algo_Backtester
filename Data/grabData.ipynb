{
 "cells": [
  {
   "cell_type": "code",
   "execution_count": 4,
   "id": "79d0fc41",
   "metadata": {},
   "outputs": [],
   "source": [
    "import yfinance as yf\n",
    "import os \n",
    "import pandas as pd \n",
    "import numpy as np\n",
    "import csv\n",
    "\n"
   ]
  },
  {
   "cell_type": "code",
   "execution_count": null,
   "id": "43587973",
   "metadata": {},
   "outputs": [],
   "source": [
    "\"\"\"url = \"https://en.wikipedia.org/wiki/List_of_S%26P_500_companies\"\n",
    "sp500_table = pd.read_html(url)[0]\n",
    "sp500_tickers = sp500_table['Symbol'].tolist()\"\"\"\n",
    "sp500_tickers = [\"TSLA\"]\n"
   ]
  },
  {
   "cell_type": "code",
   "execution_count": 6,
   "id": "fe638e6f",
   "metadata": {},
   "outputs": [
    {
     "name": "stdout",
     "output_type": "stream",
     "text": [
      "Price       Date  Close   High    Low   Open    Volume\n",
      "0     2019-09-26  25.76  27.98  24.75  27.17  47067700\n",
      "1     2019-09-27  25.24  26.17  23.75  26.17  15976000\n",
      "2     2019-09-30  25.10  25.85  25.00  25.26   4482900\n",
      "3     2019-10-01  22.51  25.17  22.51  25.00   8816100\n",
      "4     2019-10-02  22.60  23.18  21.76  22.25   9454700\n",
      "Price       Date  Close   High    Low   Open    Volume\n",
      "1459  2025-07-18  6.290  6.410  6.232  6.390   7579200\n",
      "1460  2025-07-21  6.190  6.375  6.160  6.305   6420700\n",
      "1461  2025-07-22  6.490  6.670  6.165  6.200  11253300\n",
      "1462  2025-07-23  6.770  7.160  6.515  6.515  13512700\n",
      "1463  2025-07-24  6.465  6.710  6.460  6.650   4419073\n"
     ]
    }
   ],
   "source": [
    "total_data = []\n",
    "folder = \"data\"\n",
    "data_type = \"YF\"\n",
    "for ticker in sp500_tickers:\n",
    "    file = f\"{ticker} {data_type} Data.csv\"\n",
    "    file_path = os.path.join(folder, file)\n",
    "    if os.path.exists(file_path):\n",
    "        print(f\"file for {ticker} already exists. Skipping...\")\n",
    "        continue\n",
    "    try:\n",
    "        df = yf.download(ticker, period=\"max\", progress=False)\n",
    "        if isinstance(df.columns, pd.MultiIndex):\n",
    "            df.columns = df.columns.get_level_values(0)\n",
    "        if df.empty:\n",
    "            continue\n",
    "        df.reset_index(inplace=True)\n",
    "        \n",
    "        file = f\"{ticker} {data_type} Data.csv\"\n",
    "        df.to_csv(file, index=False)\n",
    "        print(df.head())\n",
    "        print(df.tail())\n",
    "    except Exception as e:\n",
    "        print(f\"error, {e}\")\n"
   ]
  }
 ],
 "metadata": {
  "kernelspec": {
   "display_name": "Python 3",
   "language": "python",
   "name": "python3"
  },
  "language_info": {
   "codemirror_mode": {
    "name": "ipython",
    "version": 3
   },
   "file_extension": ".py",
   "mimetype": "text/x-python",
   "name": "python",
   "nbconvert_exporter": "python",
   "pygments_lexer": "ipython3",
   "version": "3.13.3"
  }
 },
 "nbformat": 4,
 "nbformat_minor": 5
}
