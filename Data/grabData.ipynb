{
 "cells": [
  {
   "cell_type": "code",
   "execution_count": 94,
   "id": "79d0fc41",
   "metadata": {},
   "outputs": [],
   "source": [
    "import yfinance as yf\n",
    "import os \n",
    "import pandas as pd \n",
    "import numpy as np\n",
    "from alpaca.data.historical import StockHistoricalDataClient\n",
    "from alpaca.data.requests import StockBarsRequest\n",
    "from alpaca.data.timeframe import TimeFrame\n",
    "from datetime import datetime\n"
   ]
  },
  {
   "cell_type": "code",
   "execution_count": null,
   "id": "43587973",
   "metadata": {},
   "outputs": [],
   "source": [
    "\"\"\"url = \"https://en.wikipedia.org/wiki/List_of_S%26P_500_companies\"\n",
    "sp500_table = pd.read_html(url)[0]\n",
    "sp500_tickers = sp500_table['Symbol'].tolist()\"\"\"\n",
    "sp500_tickers = [\"SPY\"]\n",
    "api_key = os.getenv(\"ALPACA_API_KEY\")\n",
    "secret_api_key = os.getenv(\"ALPACA_SECRET_KEY\")\n",
    "client = StockHistoricalDataClient(api_key, secret_api_key)\n"
   ]
  },
  {
   "cell_type": "code",
   "execution_count": 96,
   "id": "fe638e6f",
   "metadata": {},
   "outputs": [
    {
     "name": "stdout",
     "output_type": "stream",
     "text": [
      "Empty DataFrame\n",
      "Columns: []\n",
      "Index: []\n",
      "Downloaded data for Empty DataFrame\n",
      "Columns: []\n",
      "Index: [] was empty.\n"
     ]
    }
   ],
   "source": [
    "total_data = []\n",
    "folder = \"data\"\n",
    "data_type = input(\"\"\"Would you like the data tobe from Alpaca or YF?\n",
    "                  Alpaca - 1\n",
    "                  YF - 2\n",
    "                  Note: Alpaca data requires env vars.\"\"\")\n",
    "while data_type not in [\"1\", \"2\"]:\n",
    "    print(\"input neither 1 or 2.\")\n",
    "    data_type = input(\"\"\"Would you like the data tobe from Alpaca or YF?\n",
    "                  Alpaca - 1\n",
    "                  YF - 2\n",
    "                  Note: Alpaca data requires env vars.\"\"\")\n",
    "if data_type == \"1\":\n",
    "    data_type = \"Alpaca\"\n",
    "else:\n",
    "    data_type = \"YF\"\n",
    "for ticker in sp500_tickers:\n",
    "    file = f\"{ticker} {data_type} Data.parquet\"\n",
    "    file_path = os.path.join(folder, file)\n",
    "    if os.path.exists(file_path):\n",
    "        print(f\"file for {ticker} already exists. Skipping...\")\n",
    "        continue\n",
    "    try:\n",
    "        if data_type == \"YF\":\n",
    "            df = yf.download(ticker, period=\"max\", progress=False)\n",
    "        elif data_type == \"Alpaca\":\n",
    "            max_timeframe = StockBarsRequest(\n",
    "                    symbol_or_symbols=[ticker],\n",
    "                    timeframe=TimeFrame.Day,\n",
    "                    start=datetime(1999, 1, 1),\n",
    "                    end=datetime.now(),\n",
    "                    )\n",
    "            max_timeframe = client.get_stock_bars(max_timeframe).df\n",
    "            if max_timeframe.index.name != \"timestamp\":\n",
    "                if \"timestamp\" in max_timeframe.columns:\n",
    "                    max_timeframe.set_index(\"timestamp\", inplace=True)\n",
    "            print(max_timeframe)\n",
    "            if max_timeframe.empty:\n",
    "                print(f\"Downloaded data for {max_timeframe} was empty.\")\n",
    "                continue\n",
    "            elif len(max_timeframe) < 200:\n",
    "                print(f\"{ticker} only has {len(max_timeframe)}\")\n",
    "                continue\n",
    "            if isinstance(max_timeframe.columns, pd.MultiIndex):\n",
    "                max_timeframe.columns = max_timeframe.columns.get_level_values(0)\n",
    "            if isinstance(max_timeframe.index, pd.MultiIndex):\n",
    "                max_timeframe.reset_index(inplace=True)\n",
    "                max_timeframe.set_index(\"timestamp\", inplace=True)\n",
    "\n",
    "                max_timeframe.to_parquet(file)\n",
    "        print(df.head())\n",
    "        print(df.tail())\n",
    "        print(f\"{ticker} done\")\n",
    "    except Exception as e:\n",
    "        print(f\"error, {e}\")"
   ]
  }
 ],
 "metadata": {
  "kernelspec": {
   "display_name": "Python 3",
   "language": "python",
   "name": "python3"
  },
  "language_info": {
   "codemirror_mode": {
    "name": "ipython",
    "version": 3
   },
   "file_extension": ".py",
   "mimetype": "text/x-python",
   "name": "python",
   "nbconvert_exporter": "python",
   "pygments_lexer": "ipython3",
   "version": "3.13.3"
  }
 },
 "nbformat": 4,
 "nbformat_minor": 5
}
