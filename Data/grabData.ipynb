{
 "cells": [
  {
   "cell_type": "code",
   "execution_count": 47,
   "id": "79d0fc41",
   "metadata": {},
   "outputs": [],
   "source": [
    "import yfinance as yf\n",
    "import os \n",
    "import pandas as pd \n",
    "import numpy as np\n",
    "import csv\n",
    "\n"
   ]
  },
  {
   "cell_type": "code",
   "execution_count": 48,
   "id": "43587973",
   "metadata": {},
   "outputs": [],
   "source": [
    "url = \"https://en.wikipedia.org/wiki/List_of_S%26P_500_companies\"\n",
    "sp500_table = pd.read_html(url)[0]\n",
    "sp500_tickers = sp500_table['Symbol'].tolist()\n",
    "sp500_tickers = [\"AOS\"]\n"
   ]
  },
  {
   "cell_type": "code",
   "execution_count": 49,
   "id": "fe638e6f",
   "metadata": {},
   "outputs": [],
   "source": [
    "total_data = []\n",
    "for ticker in sp500_tickers:\n",
    "    try:\n",
    "        df = yf.download(ticker, period=\"max\", progress=False)\n",
    "        if isinstance(df.columns, pd.MultiIndex):\n",
    "            df.columns = df.columns.get_level_values(0)\n",
    "        if df.empty:\n",
    "            continue\n",
    "\n",
    "        df['Ticker'] = ticker\n",
    "        df.reset_index(inplace=True)\n",
    "        total_data.append(df)\n",
    "    except Exception as e:\n",
    "        print(f\"error, {e}\")\n"
   ]
  },
  {
   "cell_type": "code",
   "execution_count": 50,
   "id": "e9953088",
   "metadata": {},
   "outputs": [
    {
     "name": "stdout",
     "output_type": "stream",
     "text": [
      "Price       Date     Close      High       Low      Open  Volume Ticker\n",
      "0     1983-09-30  0.433086  0.449744  0.433086  0.433086   18000    AOS\n",
      "1     1983-10-03  0.433086  0.435863  0.430310  0.433086   18000    AOS\n",
      "2     1983-10-04  0.427534  0.430310  0.427534  0.430310   21600    AOS\n",
      "3     1983-10-05  0.377563  0.424758  0.377563  0.424758  127800    AOS\n",
      "4     1983-10-06  0.385891  0.385891  0.374787  0.377563  118800    AOS\n",
      "Price       Date      Close       High        Low       Open   Volume Ticker\n",
      "10527 2025-07-14  68.849998  69.150002  68.220001  68.980003   865000    AOS\n",
      "10528 2025-07-15  67.239998  69.430000  67.129997  69.269997  1198600    AOS\n",
      "10529 2025-07-16  68.050003  68.080002  66.790001  67.279999  1711000    AOS\n",
      "10530 2025-07-17  70.750000  70.800003  68.209999  68.480003  2210400    AOS\n",
      "10531 2025-07-18  70.300003  71.050003  69.900002  70.870003  2486900    AOS\n"
     ]
    }
   ],
   "source": [
    "\n",
    "file = \"stockData.csv\"\n",
    "final_set = pd.concat(total_data, ignore_index=True)\n",
    "print(final_set.head())\n",
    "print(final_set.tail())"
   ]
  },
  {
   "cell_type": "code",
   "execution_count": null,
   "id": "6949be3c",
   "metadata": {},
   "outputs": [],
   "source": [
    "final_set.to_csv(file, index=False)"
   ]
  }
 ],
 "metadata": {
  "kernelspec": {
   "display_name": "Python 3",
   "language": "python",
   "name": "python3"
  },
  "language_info": {
   "codemirror_mode": {
    "name": "ipython",
    "version": 3
   },
   "file_extension": ".py",
   "mimetype": "text/x-python",
   "name": "python",
   "nbconvert_exporter": "python",
   "pygments_lexer": "ipython3",
   "version": "3.13.3"
  }
 },
 "nbformat": 4,
 "nbformat_minor": 5
}
