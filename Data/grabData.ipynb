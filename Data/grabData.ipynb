{
 "cells": [
  {
   "cell_type": "code",
   "execution_count": 7,
   "id": "79d0fc41",
   "metadata": {},
   "outputs": [],
   "source": [
    "import yfinance as yf\n",
    "import os \n",
    "import pandas as pd \n",
    "import numpy as np\n",
    "import csv\n",
    "\n"
   ]
  },
  {
   "cell_type": "code",
   "execution_count": 8,
   "id": "43587973",
   "metadata": {},
   "outputs": [],
   "source": [
    "\"\"\"url = \"https://en.wikipedia.org/wiki/List_of_S%26P_500_companies\"\n",
    "sp500_table = pd.read_html(url)[0]\n",
    "sp500_tickers = sp500_table['Symbol'].tolist()\"\"\"\n",
    "sp500_tickers = [\"TSLA\"]\n"
   ]
  },
  {
   "cell_type": "code",
   "execution_count": null,
   "id": "fe638e6f",
   "metadata": {},
   "outputs": [
    {
     "name": "stdout",
     "output_type": "stream",
     "text": [
      "Price       Date     Close      High       Low      Open     Volume\n",
      "0     2010-06-29  1.592667  1.666667  1.169333  1.266667  281494500\n",
      "1     2010-06-30  1.588667  2.028000  1.553333  1.719333  257806500\n",
      "2     2010-07-01  1.464000  1.728000  1.351333  1.666667  123282000\n",
      "3     2010-07-02  1.280000  1.540000  1.247333  1.533333   77097000\n",
      "4     2010-07-06  1.074000  1.333333  1.055333  1.333333  103003500\n",
      "Price       Date       Close        High         Low        Open     Volume\n",
      "3786  2025-07-18  329.649994  330.899994  321.420013  321.660004   94255000\n",
      "3787  2025-07-21  328.489990  338.000000  326.880005  334.399994   75768800\n",
      "3788  2025-07-22  332.109985  335.410004  321.549988  329.739990   77370400\n",
      "3789  2025-07-23  332.559998  336.200012  328.670013  330.899994   86531400\n",
      "3790  2025-07-24  304.184387  310.065002  300.410004  310.065002  125838904\n"
     ]
    }
   ],
   "source": [
    "total_data = []\n",
    "folder = \"data\"\n",
    "data_type = \"YF\"\n",
    "for ticker in sp500_tickers:\n",
    "    file = f\"{ticker} {data_type} Data.parquet\"\n",
    "    file_path = os.path.join(folder, file)\n",
    "    if os.path.exists(file_path):\n",
    "        print(f\"file for {ticker} already exists. Skipping...\")\n",
    "        continue\n",
    "    try:\n",
    "        df = yf.download(ticker, period=\"max\", progress=False)\n",
    "        if isinstance(df.columns, pd.MultiIndex):\n",
    "            df.columns = df.columns.get_level_values(0)\n",
    "        if df.empty:\n",
    "            continue\n",
    "        df.reset_index(inplace=True)\n",
    "        \n",
    "        file = f\"{ticker} {data_type} Data.parquet\"\n",
    "        df.to_csv(file, index=False)\n",
    "        print(df.head())\n",
    "        print(df.tail())\n",
    "    except Exception as e:\n",
    "        print(f\"error, {e}\")\n"
   ]
  }
 ],
 "metadata": {
  "kernelspec": {
   "display_name": "Python 3",
   "language": "python",
   "name": "python3"
  },
  "language_info": {
   "codemirror_mode": {
    "name": "ipython",
    "version": 3
   },
   "file_extension": ".py",
   "mimetype": "text/x-python",
   "name": "python",
   "nbconvert_exporter": "python",
   "pygments_lexer": "ipython3",
   "version": "3.13.3"
  }
 },
 "nbformat": 4,
 "nbformat_minor": 5
}
