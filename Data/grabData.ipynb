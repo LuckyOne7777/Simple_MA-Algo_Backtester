{
 "cells": [
  {
   "cell_type": "code",
   "execution_count": 52,
   "id": "79d0fc41",
   "metadata": {},
   "outputs": [],
   "source": [
    "import yfinance as yf\n",
    "import os \n",
    "import pandas as pd \n",
    "import numpy as np\n",
    "import csv\n",
    "\n"
   ]
  },
  {
   "cell_type": "code",
   "execution_count": 53,
   "id": "43587973",
   "metadata": {},
   "outputs": [],
   "source": [
    "url = \"https://en.wikipedia.org/wiki/List_of_S%26P_500_companies\"\n",
    "sp500_table = pd.read_html(url)[0]\n",
    "sp500_tickers = sp500_table['Symbol'].tolist()\n",
    "sp500_tickers = [\"AOS\"]\n"
   ]
  },
  {
   "cell_type": "code",
   "execution_count": null,
   "id": "fe638e6f",
   "metadata": {},
   "outputs": [],
   "source": [
    "total_data = []\n",
    "for ticker in sp500_tickers:\n",
    "    try:\n",
    "        df = yf.download(ticker, period=\"max\", progress=False)\n",
    "        if isinstance(df.columns, pd.MultiIndex):\n",
    "            df.columns = df.columns.get_level_values(0)\n",
    "        if df.empty:\n",
    "            continue\n",
    "\n",
    "        df['Ticker'] = ticker\n",
    "        df.reset_index(inplace=True)\n",
    "        \n",
    "        file = f\"{ticker} Data.csv\"\n",
    "        df.to_csv(file, index=False)\n",
    "        print(df.head())\n",
    "        print(df.tail())\n",
    "    except Exception as e:\n",
    "        print(f\"error, {e}\")\n"
   ]
  }
 ],
 "metadata": {
  "kernelspec": {
   "display_name": "Python 3",
   "language": "python",
   "name": "python3"
  },
  "language_info": {
   "codemirror_mode": {
    "name": "ipython",
    "version": 3
   },
   "file_extension": ".py",
   "mimetype": "text/x-python",
   "name": "python",
   "nbconvert_exporter": "python",
   "pygments_lexer": "ipython3",
   "version": "3.13.3"
  }
 },
 "nbformat": 4,
 "nbformat_minor": 5
}
